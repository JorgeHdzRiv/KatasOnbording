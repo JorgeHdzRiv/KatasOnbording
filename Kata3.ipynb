{
 "cells": [
  {
   "cell_type": "markdown",
   "id": "1eb25cf5",
   "metadata": {},
   "source": [
    "# If-Else\n",
    "Lógica condicional que imprima una advertencia si un asteroide se acerca a la Tierra demasiado rápido. La velocidad del asteroide varía dependiendo de lo cerca que esté del sol, y cualquier velocidad superior a 25 kilómetros por segundo (km/s) merece una advertencia.\n",
    "\n",
    "Un asteroide se acerca, y viaja a una velocidad de 49 km/s."
   ]
  },
  {
   "cell_type": "code",
   "execution_count": 1,
   "id": "eade5dd0",
   "metadata": {},
   "outputs": [
    {
     "name": "stdout",
     "output_type": "stream",
     "text": [
      "Un asteroide se acerca a la Tierra demasiado rapido\n"
     ]
    }
   ],
   "source": [
    "asteroide = 49\n",
    "if asteroide > 25:\n",
    "    print(\"Un asteroide se acerca a la Tierra demasiado rapido\")\n",
    "else:\n",
    "    print(\"Ningun problema reportado\")"
   ]
  },
  {
   "cell_type": "markdown",
   "id": "2c669eb6",
   "metadata": {},
   "source": [
    "Si un asteroide entra en la atmósfera de la Tierra a una velocidad mayor o igual a 20 km/s, a veces produce un rayo de luz que se puede ver desde la Tierra. Escribe la lógica condicional que usa declaraciones if, else, y elif para alertar a las personas de todo el mundo que deben buscar un asteroide en el cielo. ¡Hay uno que se dirige a la tierra ahora a una velocidad de 19 km/s!"
   ]
  },
  {
   "cell_type": "code",
   "execution_count": 2,
   "id": "adcf0679",
   "metadata": {},
   "outputs": [
    {
     "name": "stdout",
     "output_type": "stream",
     "text": [
      "No pasa nada en el cielo\n"
     ]
    }
   ],
   "source": [
    "asteroide = 19\n",
    "\n",
    "if asteroide >20:\n",
    "    print(\"Mira al cielo se produjo un rayo de luz\")\n",
    "elif asteroide == 20:\n",
    "    print(\"Mira al cielo se produjo un rayo de luz\")\n",
    "else:\n",
    "    print(\"No pasa nada en el cielo\")\n",
    "    "
   ]
  },
  {
   "cell_type": "markdown",
   "id": "f6db1ba9",
   "metadata": {},
   "source": [
    "# Operadores and y or\n",
    "*Los asteroides de menos de 25 metros en su dimensión más grande probablemente se quemarán a medida que entren en la atmósfera de la Tierra.\n",
    "\n",
    "Si una pieza de un asteroide que es más grande que 25 metros pero más pequeña que 1000 metros golpeara la Tierra, causaría mucho daño.\n",
    "También discutimos en el ejercicio anterior que:\n",
    "\n",
    "La velocidad del asteroide varía en función de lo cerca que esté del sol, y cualquier velocidad superior a 25 kilómetros por segundo (km/s) merece una advertencia.\n",
    "Si un asteroide entra en la atmósfera de la Tierra a una velocidad mayor o igual a 20 km/s, a veces produce un rayo de luz que se puede ver desde la Tierra."
   ]
  },
  {
   "cell_type": "code",
   "execution_count": 3,
   "id": "ad9e75b0",
   "metadata": {},
   "outputs": [
    {
     "name": "stdout",
     "output_type": "stream",
     "text": [
      "Un asteroide se acerca a la Tierra demasiado rapido o es muy grande\n"
     ]
    }
   ],
   "source": [
    "velocidad_asteroide = 30\n",
    "dimension_asteroide = 30\n",
    "\n",
    "if velocidad_asteroide > 25 or (dimension_asteroide> 25 and dimension_asteroide<1000):\n",
    "    print(\"Un asteroide se acerca a la Tierra demasiado rapido o es muy grande\")\n",
    "elif velocidad_asteroide >=20:\n",
    "    print(\"Mira al cielo se produjo un rayo de luz\")\n",
    "else:\n",
    "    print(\"No pasa nada en el cielo\")"
   ]
  }
 ],
 "metadata": {
  "kernelspec": {
   "display_name": "Python 3 (ipykernel)",
   "language": "python",
   "name": "python3"
  },
  "language_info": {
   "codemirror_mode": {
    "name": "ipython",
    "version": 3
   },
   "file_extension": ".py",
   "mimetype": "text/x-python",
   "name": "python",
   "nbconvert_exporter": "python",
   "pygments_lexer": "ipython3",
   "version": "3.9.5"
  }
 },
 "nbformat": 4,
 "nbformat_minor": 5
}
