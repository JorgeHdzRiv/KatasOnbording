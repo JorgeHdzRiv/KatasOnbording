{
 "cells": [
  {
   "cell_type": "markdown",
   "id": "d86c72b6",
   "metadata": {},
   "source": [
    "# Ejercicio: Uso de funciones en Python\n",
    "## Ejercicio 1: Trabajar con argumentos en funciones\n",
    "Comienza por crear una función que necesite tres lecturas de combustible y devuelva un informe:"
   ]
  },
  {
   "cell_type": "code",
   "execution_count": 1,
   "id": "7a1bc015",
   "metadata": {},
   "outputs": [],
   "source": [
    "def reportes(principal,externo,hidrogeno):\n",
    "    promedio = (principal+externo+hidrogeno)/3\n",
    "    return f\"\"\"Reporte:\n",
    "    Promedio total: {promedio}%\n",
    "    Tanque principal: {principal}%\n",
    "    Tanque externo: {externo}%\n",
    "    Tanque hidrogeno: {hidrogeno}%\n",
    "    \"\"\""
   ]
  },
  {
   "cell_type": "code",
   "execution_count": 2,
   "id": "28e733bc",
   "metadata": {},
   "outputs": [
    {
     "name": "stdout",
     "output_type": "stream",
     "text": [
      "Reporte:\n",
      "    Promedio total: 90.0%\n",
      "    Tanque principal: 90%\n",
      "    Tanque externo: 100%\n",
      "    Tanque hidrogeno: 80%\n",
      "    \n"
     ]
    }
   ],
   "source": [
    "#Llamado a la funcion\n",
    "print(reportes(90,100,80))"
   ]
  },
  {
   "cell_type": "code",
   "execution_count": 4,
   "id": "6848746f",
   "metadata": {},
   "outputs": [
    {
     "data": {
      "text/plain": [
       "52.75"
      ]
     },
     "execution_count": 4,
     "metadata": {},
     "output_type": "execute_result"
    }
   ],
   "source": [
    "#Funcion para el promedio de la lista valores\n",
    "def promedio(valores):\n",
    "    total = sum(valores)\n",
    "    numero_elementos = len(valores)\n",
    "    prom = total/numero_elementos\n",
    "    return prom\n",
    "\n",
    "#Prueba de la funcion\n",
    "promedio([60,23,78,50])"
   ]
  },
  {
   "cell_type": "code",
   "execution_count": 6,
   "id": "f16eae62",
   "metadata": {},
   "outputs": [
    {
     "name": "stdout",
     "output_type": "stream",
     "text": [
      "Reporte:\n",
      "    Promedio total: 86.67%\n",
      "    Tanque principal: 90%\n",
      "    Tanque externo: 70%\n",
      "    Tanque hidrogeno: 100%\n",
      "    \n"
     ]
    }
   ],
   "source": [
    "#Actualizacion de la funcion reportes llamando a la funcion promedio\n",
    "def reportes(principal,externo,hidrogeno):\n",
    "    return f\"\"\"Reporte:\n",
    "    Promedio total: {promedio([principal,externo,hidrogeno]):.2f}%\n",
    "    Tanque principal: {principal}%\n",
    "    Tanque externo: {externo}%\n",
    "    Tanque hidrogeno: {hidrogeno}%\n",
    "    \"\"\"\n",
    "#Prueba de la funcion actualizada\n",
    "print(reportes(90,70,100))"
   ]
  },
  {
   "cell_type": "markdown",
   "id": "52c3ac0a",
   "metadata": {},
   "source": [
    "# Ejercicio 2: Trabajo con argumentos de palabra clave\n",
    "## Ejercicio : Trabajar con argumentos de palabras clave en funciones\n",
    "En este ejercicio, construirás un informe de cohete que requiere varias piezas de información, como el tiempo hasta el destino, el combustible a la izquierda y el nombre del destino. Comienza por crear una función que creará un informe preciso de la misión:"
   ]
  },
  {
   "cell_type": "code",
   "execution_count": 7,
   "id": "95fa50e9",
   "metadata": {},
   "outputs": [
    {
     "name": "stdout",
     "output_type": "stream",
     "text": [
      "\n",
      "    Mission hacia: Marte\n",
      "    Total de tiempo de vuelo: 55 min\n",
      "    Total combustible: 320000 lt\n",
      "    \n"
     ]
    }
   ],
   "source": [
    "def informe(prelanzamiento,tiempo_vuelo,destino,tanque_ext,tanque_int):\n",
    "    return f\"\"\"\n",
    "    Mission hacia: {destino}\n",
    "    Total de tiempo de vuelo: {prelanzamiento+tiempo_vuelo} min\n",
    "    Total combustible: {tanque_ext+tanque_int} lt\n",
    "    \"\"\"\n",
    "print(informe(5,50,\"Marte\",20000,300000))"
   ]
  },
  {
   "cell_type": "markdown",
   "id": "c34f36ab",
   "metadata": {},
   "source": [
    "Aprovecha el hecho de que puedes usar cualquier nombre que desees. Asegurate que la función sea más legible mediante el uso de nombres de variables que están asociados con las entradas, como *minutes y **fuel_reservoirs:"
   ]
  },
  {
   "cell_type": "code",
   "execution_count": 8,
   "id": "832c5226",
   "metadata": {},
   "outputs": [
    {
     "name": "stdout",
     "output_type": "stream",
     "text": [
      "\n",
      "    Mission hacia: Marte\n",
      "    Total de tiempo de vuelo: 53 min\n",
      "    Total combustible: 42000 lt\n",
      "    \n"
     ]
    }
   ],
   "source": [
    "def informe(destino,*minutos,**reserva_combustible):\n",
    "    return f\"\"\"\n",
    "    Mission hacia: {destino}\n",
    "    Total de tiempo de vuelo: {sum(minutos)} min\n",
    "    Total combustible: {sum(reserva_combustible.values())} lt\n",
    "    \"\"\"\n",
    "print(informe(\"Marte\",10,23,20,principal=40000,externo=2000))"
   ]
  },
  {
   "cell_type": "markdown",
   "id": "89ec834d",
   "metadata": {},
   "source": [
    "Debido a que el combustible que queda en los tanques es específico de cada tanque, actualiza la función para usar el nombre de cada tanque en el informe:"
   ]
  },
  {
   "cell_type": "code",
   "execution_count": 12,
   "id": "2370edca",
   "metadata": {},
   "outputs": [
    {
     "name": "stdout",
     "output_type": "stream",
     "text": [
      "\n",
      "    Mission hacia: Marte\n",
      "    Total de tiempo de vuelo: 87 min\n",
      "    Total combustible: 425000 lt\n",
      "    El tanque principal tiene: 400000 litros restantes\n",
      "El tanque externo tiene: 25000 litros restantes\n",
      "\n"
     ]
    }
   ],
   "source": [
    "#Nueva funcion\n",
    "def informe(destino,*minutos,**reserva_combustible):\n",
    "    informe_principal = f\"\"\"\n",
    "    Mission hacia: {destino}\n",
    "    Total de tiempo de vuelo: {sum(minutos)} min\n",
    "    Total combustible: {sum(reserva_combustible.values())} lt\n",
    "    \"\"\"\n",
    "    for tanque, litros in reserva_combustible.items():\n",
    "        informe_principal += f\"El tanque {tanque} tiene: {litros} litros restantes\\n\"\n",
    "    return informe_principal\n",
    "\n",
    "print(informe(\"Marte\",10,23,54, principal=400000, externo=25000))"
   ]
  }
 ],
 "metadata": {
  "kernelspec": {
   "display_name": "Python 3 (ipykernel)",
   "language": "python",
   "name": "python3"
  },
  "language_info": {
   "codemirror_mode": {
    "name": "ipython",
    "version": 3
   },
   "file_extension": ".py",
   "mimetype": "text/x-python",
   "name": "python",
   "nbconvert_exporter": "python",
   "pygments_lexer": "ipython3",
   "version": "3.9.5"
  }
 },
 "nbformat": 4,
 "nbformat_minor": 5
}
