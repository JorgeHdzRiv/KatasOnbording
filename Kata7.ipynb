{
 "cells": [
  {
   "cell_type": "markdown",
   "id": "aca5eb33",
   "metadata": {},
   "source": [
    "# Ejercicio 1: Creación de un bucle \"while\"\n",
    "En este ejercicio, estás creando una aplicación que solicita a un usuario que ingrese una lista de planetas. En un ejercicio posterior, agregarás código que muestre la lista. Por ahora, crearás solo el código que solicita al usuario la lista de planetas.\n"
   ]
  },
  {
   "cell_type": "code",
   "execution_count": 11,
   "id": "74bbc0f1",
   "metadata": {},
   "outputs": [],
   "source": [
    "#Variables\n",
    "new_planet = ''\n",
    "planets = list()"
   ]
  },
  {
   "cell_type": "code",
   "execution_count": 12,
   "id": "780d7506",
   "metadata": {},
   "outputs": [
    {
     "name": "stdout",
     "output_type": "stream",
     "text": [
      "Ingrese un planeta: jupiter\n",
      "Ingrese un planeta: saturno\n",
      "Ingrese un planeta: urano\n",
      "Ingrese un planeta: tierra\n",
      "Ingrese un planeta: marte\n",
      "Ingrese un planeta: done\n",
      "La lista de planetas es:  ['Jupiter', 'Saturno', 'Urano', 'Tierra', 'Marte']\n"
     ]
    }
   ],
   "source": [
    "while new_planet != 'done':\n",
    "    if new_planet:\n",
    "        new_planet = new_planet.title()\n",
    "        planets.append(new_planet)\n",
    "    new_planet = input(\"Ingrese un planeta: \")\n",
    "print(\"La lista de planetas es: \",planets)"
   ]
  },
  {
   "cell_type": "markdown",
   "id": "dea56524",
   "metadata": {},
   "source": [
    "# Ejercicio 2: Creación de un ciclo \"for\"\n",
    "## Ejercicio: - Ciclo para una lista\n",
    "En el ejercicio anterior, creaste código para solicitar a los usuarios que introduzcan una lista de nombres de planetas. En este ejercicio, completarás la aplicación escribiendo código que muestre los nombres de esos planetas."
   ]
  },
  {
   "cell_type": "code",
   "execution_count": 13,
   "id": "2a732f04",
   "metadata": {},
   "outputs": [
    {
     "name": "stdout",
     "output_type": "stream",
     "text": [
      "Jupiter\n",
      "Saturno\n",
      "Urano\n",
      "Tierra\n",
      "Marte\n"
     ]
    }
   ],
   "source": [
    "for planet in planets:\n",
    "    print(planet)"
   ]
  }
 ],
 "metadata": {
  "kernelspec": {
   "display_name": "Python 3 (ipykernel)",
   "language": "python",
   "name": "python3"
  },
  "language_info": {
   "codemirror_mode": {
    "name": "ipython",
    "version": 3
   },
   "file_extension": ".py",
   "mimetype": "text/x-python",
   "name": "python",
   "nbconvert_exporter": "python",
   "pygments_lexer": "ipython3",
   "version": "3.9.5"
  }
 },
 "nbformat": 4,
 "nbformat_minor": 5
}
