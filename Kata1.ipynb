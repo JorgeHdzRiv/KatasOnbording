{
 "cells": [
  {
   "cell_type": "markdown",
   "id": "ae68d4a2",
   "metadata": {},
   "source": [
    "# Primer programa\n"
   ]
  },
  {
   "cell_type": "code",
   "execution_count": 1,
   "id": "84dfa99e",
   "metadata": {},
   "outputs": [
    {
     "name": "stdout",
     "output_type": "stream",
     "text": [
      "Today's date is:  2022-02-08\n"
     ]
    }
   ],
   "source": [
    "#Importar biblioteca\n",
    "from datetime import date\n",
    "\n",
    "print(\"Today's date is: \",date.today())"
   ]
  },
  {
   "cell_type": "markdown",
   "id": "50a58785",
   "metadata": {},
   "source": [
    "# Conversor de unidades entre parsecs y años luz\n",
    "1 parsec equivale a 3.26156 años luz"
   ]
  },
  {
   "cell_type": "code",
   "execution_count": 5,
   "id": "d3a6d891",
   "metadata": {},
   "outputs": [
    {
     "name": "stdout",
     "output_type": "stream",
     "text": [
      "11 parsec, is 35.877159999999996 lightyears\n",
      "11 parsec son: 35.88 lightyears\n"
     ]
    }
   ],
   "source": [
    "parsec = 11\n",
    "\n",
    "lightyears = parsec * 3.26156\n",
    "\n",
    "print(str(parsec) + \" parsec, is \" + str(lightyears) + \" lightyears\")\n",
    "print(f'{parsec} parsec son: {lightyears:.2f} lightyears')"
   ]
  }
 ],
 "metadata": {
  "kernelspec": {
   "display_name": "Python 3 (ipykernel)",
   "language": "python",
   "name": "python3"
  },
  "language_info": {
   "codemirror_mode": {
    "name": "ipython",
    "version": 3
   },
   "file_extension": ".py",
   "mimetype": "text/x-python",
   "name": "python",
   "nbconvert_exporter": "python",
   "pygments_lexer": "ipython3",
   "version": "3.9.5"
  }
 },
 "nbformat": 4,
 "nbformat_minor": 5
}
